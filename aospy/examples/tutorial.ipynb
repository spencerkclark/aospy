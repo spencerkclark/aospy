{
 "cells": [
  {
   "cell_type": "code",
   "execution_count": 1,
   "metadata": {
    "collapsed": false,
    "deletable": true,
    "editable": true
   },
   "outputs": [],
   "source": [
    "import os\n",
    "from datetime import datetime\n",
    "\n",
    "import matplotlib.pyplot as plt\n",
    "import xarray as xr\n",
    "\n",
    "from aospy import Proj, Model, Run, Var, Region, Calc, CalcInterface\n",
    "from aospy.data_loader import DictDataLoader\n",
    "%matplotlib inline"
   ]
  },
  {
   "cell_type": "markdown",
   "metadata": {
    "deletable": true,
    "editable": true
   },
   "source": [
    "Define example aospy objects\n",
    "----------------------------"
   ]
  },
  {
   "cell_type": "code",
   "execution_count": 2,
   "metadata": {
    "collapsed": true,
    "deletable": true,
    "editable": true
   },
   "outputs": [],
   "source": [
    "def total_precipitation(convection_rain, condensation_rain):\n",
    "    return convection_rain + condensation_rain"
   ]
  },
  {
   "cell_type": "code",
   "execution_count": 3,
   "metadata": {
    "collapsed": false,
    "deletable": true,
    "editable": true
   },
   "outputs": [],
   "source": [
    "files = os.path.normpath('../test/data/netcdf/000[4-6]0101.precip_monthly.nc')\n",
    "file_map = {'monthly': files}\n",
    "example_run = Run(\n",
    "    name='example_run',\n",
    "    description=(\n",
    "        'Control simulation of the idealized moist model'\n",
    "    ),\n",
    "    data_loader=DictDataLoader(file_map)\n",
    ")\n"
   ]
  },
  {
   "cell_type": "code",
   "execution_count": 4,
   "metadata": {
    "collapsed": false,
    "deletable": true,
    "editable": true
   },
   "outputs": [],
   "source": [
    "example_model = Model(\n",
    "    name='example_model',\n",
    "    grid_file_paths=(\n",
    "        os.path.normpath('../test/data/netcdf/00040101.precip_monthly.nc'),\n",
    "        os.path.normpath('../test/data/netcdf/im.landmask.nc')\n",
    "    ),\n",
    "    runs=[example_run]\n",
    ")"
   ]
  },
  {
   "cell_type": "code",
   "execution_count": 5,
   "metadata": {
    "collapsed": false,
    "deletable": true,
    "editable": true
   },
   "outputs": [],
   "source": [
    "example_proj = Proj(\n",
    "    'example_proj',\n",
    "    direc_out='example-output',\n",
    "    tar_direc_out='example-tar-output',\n",
    "    models=(example_model,)\n",
    ")"
   ]
  },
  {
   "cell_type": "code",
   "execution_count": 6,
   "metadata": {
    "collapsed": true,
    "deletable": true,
    "editable": true
   },
   "outputs": [],
   "source": [
    "condensation_rain = Var(\n",
    "    name='condensation_rain',\n",
    "    alt_names=('prec_ls',),\n",
    "    def_time=True,\n",
    "    description=('condensation rain'),\n",
    ")\n",
    "\n",
    "convection_rain = Var(\n",
    "    name='convection_rain',\n",
    "    alt_names=('prec_conv',),\n",
    "    def_time=True,\n",
    "    description=('convection rain'),\n",
    ")\n",
    "\n",
    "precip = Var(\n",
    "    name='total_precipitation',\n",
    "    def_time=True,\n",
    "    description=('total precipitation rate'),\n",
    "    func=total_precipitation,\n",
    "    variables=(convection_rain, condensation_rain)\n",
    ")"
   ]
  },
  {
   "cell_type": "code",
   "execution_count": 7,
   "metadata": {
    "collapsed": true,
    "deletable": true,
    "editable": true
   },
   "outputs": [],
   "source": [
    "globe = Region(\n",
    "    name='globe',\n",
    "    description='Entire globe',\n",
    "    lat_bounds=(-90, 90),\n",
    "    lon_bounds=(0, 360),\n",
    "    do_land_mask=False\n",
    ")"
   ]
  },
  {
   "cell_type": "markdown",
   "metadata": {
    "deletable": true,
    "editable": true
   },
   "source": [
    "Compute annual mean total precipitation rate\n",
    "----------------------------------------------"
   ]
  },
  {
   "cell_type": "code",
   "execution_count": 8,
   "metadata": {
    "collapsed": false,
    "deletable": true,
    "editable": true
   },
   "outputs": [
    {
     "name": "stderr",
     "output_type": "stream",
     "text": [
      "INFO:root:Getting input data: Var instance \"convection_rain\" (Tue Mar 28 19:39:49 2017)\n",
      "/home/skc/miniconda/envs/research/lib/python3.6/site-packages/xarray/conventions.py:389: RuntimeWarning: Unable to decode time axis into full numpy.datetime64 objects, continuing using dummy netCDF4.datetime objects instead, reason: dates out of range\n",
      "  result = decode_cf_datetime(example_value, units, calendar)\n",
      "/home/skc/miniconda/envs/research/lib/python3.6/site-packages/xarray/conventions.py:408: RuntimeWarning: Unable to decode time axis into full numpy.datetime64 objects, continuing using dummy netCDF4.datetime objects instead, reason: dates out of range\n",
      "  calendar=self.calendar)\n",
      "INFO:root:Getting input data: Var instance \"condensation_rain\" (Tue Mar 28 19:39:49 2017)\n",
      "/home/skc/miniconda/envs/research/lib/python3.6/site-packages/xarray/conventions.py:389: RuntimeWarning: Unable to decode time axis into full numpy.datetime64 objects, continuing using dummy netCDF4.datetime objects instead, reason: dates out of range\n",
      "  result = decode_cf_datetime(example_value, units, calendar)\n",
      "/home/skc/miniconda/envs/research/lib/python3.6/site-packages/xarray/conventions.py:408: RuntimeWarning: Unable to decode time axis into full numpy.datetime64 objects, continuing using dummy netCDF4.datetime objects instead, reason: dates out of range\n",
      "  calendar=self.calendar)\n",
      "INFO:root:Computing timeseries for 0004-01-01 00:00:00 -- 0006-12-31 00:00:00.\n",
      "INFO:root:Applying desired time-reduction methods. (Tue Mar 28 19:39:49 2017)\n",
      "INFO:root:Writing desired gridded outputs to disk.\n",
      "INFO:root:\texample-output/example_proj/example_model/example_run/total_precipitation/total_precipitation.ann.av.from_monthly_ts.example_model.example_run.0004-0006.nc\n"
     ]
    },
    {
     "data": {
      "text/plain": [
       "Calc object: total_precipitation, example_proj, example_model, example_run"
      ]
     },
     "execution_count": 8,
     "metadata": {},
     "output_type": "execute_result"
    }
   ],
   "source": [
    "calc_int = CalcInterface(\n",
    "    proj=example_proj,\n",
    "    model=example_model,\n",
    "    run=example_run,\n",
    "    var=precip,\n",
    "    date_range=(datetime(4, 1, 1), datetime(6, 12, 31)),\n",
    "    intvl_in='monthly',\n",
    "    dtype_in_time='ts',\n",
    "    intvl_out='ann',\n",
    "    dtype_out_time='av'\n",
    ")\n",
    "Calc(calc_int).compute()"
   ]
  },
  {
   "cell_type": "code",
   "execution_count": 9,
   "metadata": {
    "collapsed": false,
    "deletable": true,
    "editable": true
   },
   "outputs": [],
   "source": [
    "ds = xr.open_dataset(calc_int.path_out['av'])"
   ]
  },
  {
   "cell_type": "code",
   "execution_count": 10,
   "metadata": {
    "collapsed": false,
    "deletable": true,
    "editable": true
   },
   "outputs": [
    {
     "data": {
      "text/plain": [
       "<xarray.Dataset>\n",
       "Dimensions:              (lat: 64, lon: 128)\n",
       "Coordinates:\n",
       "  * lon                  (lon) float64 0.0 2.812 5.625 8.438 11.25 14.06 ...\n",
       "    sfc_area             (lat, lon) float64 3.553e+09 3.553e+09 3.553e+09 ...\n",
       "    land_mask            (lat, lon) float64 0.0 0.0 0.0 0.0 0.0 0.0 0.0 0.0 ...\n",
       "  * lat                  (lat) float64 -87.86 -85.1 -82.31 -79.53 -76.74 ...\n",
       "    raw_data_start_date  datetime64[ns] 1678-01-01\n",
       "    raw_data_end_date    datetime64[ns] 1681-01-01\n",
       "    subset_start_date    datetime64[ns] 1678-01-01\n",
       "    subset_end_date      datetime64[ns] 1680-12-31\n",
       "Data variables:\n",
       "    total_precipitation  (lat, lon) float64 5.158e-06 5.147e-06 5.136e-06 ..."
      ]
     },
     "execution_count": 10,
     "metadata": {},
     "output_type": "execute_result"
    }
   ],
   "source": [
    "ds"
   ]
  },
  {
   "cell_type": "code",
   "execution_count": 11,
   "metadata": {
    "collapsed": false,
    "deletable": true,
    "editable": true
   },
   "outputs": [
    {
     "data": {
      "text/plain": [
       "<matplotlib.collections.QuadMesh at 0x7f3150325a58>"
      ]
     },
     "execution_count": 11,
     "metadata": {},
     "output_type": "execute_result"
    },
    {
     "data": {
      "image/png": "[encoded data removed]",
      "text/plain": [
       "<matplotlib.figure.Figure at 0x7f315571d940>"
      ]
     },
     "metadata": {},
     "output_type": "display_data"
    }
   ],
   "source": [
    "ds.total_precipitation.plot()"
   ]
  },
  {
   "cell_type": "code",
   "execution_count": 12,
   "metadata": {
    "collapsed": false,
    "deletable": true,
    "editable": true
   },
   "outputs": [
    {
     "data": {
      "text/plain": [
       "'example-output/example_proj/example_model/example_run/total_precipitation/total_precipitation.ann.av.from_monthly_ts.example_model.example_run.0004-0006.nc'"
      ]
     },
     "execution_count": 12,
     "metadata": {},
     "output_type": "execute_result"
    }
   ],
   "source": [
    "# The path to the output in this example is given by\n",
    "calc_int.path_out['av']"
   ]
  },
  {
   "cell_type": "markdown",
   "metadata": {
    "deletable": true,
    "editable": true
   },
   "source": [
    "Compute global annual mean total precipitation rate\n",
    "---------------------------------------------------"
   ]
  },
  {
   "cell_type": "code",
   "execution_count": 13,
   "metadata": {
    "collapsed": false,
    "deletable": true,
    "editable": true
   },
   "outputs": [
    {
     "name": "stderr",
     "output_type": "stream",
     "text": [
      "INFO:root:Getting input data: Var instance \"convection_rain\" (Tue Mar 28 19:39:50 2017)\n",
      "/home/skc/miniconda/envs/research/lib/python3.6/site-packages/xarray/conventions.py:389: RuntimeWarning: Unable to decode time axis into full numpy.datetime64 objects, continuing using dummy netCDF4.datetime objects instead, reason: dates out of range\n",
      "  result = decode_cf_datetime(example_value, units, calendar)\n",
      "/home/skc/miniconda/envs/research/lib/python3.6/site-packages/xarray/conventions.py:408: RuntimeWarning: Unable to decode time axis into full numpy.datetime64 objects, continuing using dummy netCDF4.datetime objects instead, reason: dates out of range\n",
      "  calendar=self.calendar)\n",
      "INFO:root:Getting input data: Var instance \"condensation_rain\" (Tue Mar 28 19:39:50 2017)\n",
      "/home/skc/miniconda/envs/research/lib/python3.6/site-packages/xarray/conventions.py:389: RuntimeWarning: Unable to decode time axis into full numpy.datetime64 objects, continuing using dummy netCDF4.datetime objects instead, reason: dates out of range\n",
      "  result = decode_cf_datetime(example_value, units, calendar)\n",
      "/home/skc/miniconda/envs/research/lib/python3.6/site-packages/xarray/conventions.py:408: RuntimeWarning: Unable to decode time axis into full numpy.datetime64 objects, continuing using dummy netCDF4.datetime objects instead, reason: dates out of range\n",
      "  calendar=self.calendar)\n",
      "INFO:root:Computing timeseries for 0004-01-01 00:00:00 -- 0006-12-31 00:00:00.\n",
      "INFO:root:Applying desired time-reduction methods. (Tue Mar 28 19:39:51 2017)\n",
      "INFO:root:Writing desired gridded outputs to disk.\n",
      "INFO:root:\texample-output/example_proj/example_model/example_run/total_precipitation/total_precipitation.ann.reg.av.from_monthly_ts.example_model.example_run.0004-0006.nc\n"
     ]
    },
    {
     "data": {
      "text/plain": [
       "Calc object: total_precipitation, example_proj, example_model, example_run"
      ]
     },
     "execution_count": 13,
     "metadata": {},
     "output_type": "execute_result"
    }
   ],
   "source": [
    "calc_int = CalcInterface(\n",
    "    proj=example_proj,\n",
    "    model=example_model,\n",
    "    run=example_run,\n",
    "    var=precip,\n",
    "    date_range=(datetime(4, 1, 1), datetime(6, 12, 31)),\n",
    "    intvl_in='monthly',\n",
    "    dtype_in_time='ts',\n",
    "    intvl_out='ann',\n",
    "    dtype_out_time='reg.av',\n",
    "    region=[globe]\n",
    ")\n",
    "Calc(calc_int).compute()"
   ]
  },
  {
   "cell_type": "code",
   "execution_count": 14,
   "metadata": {
    "collapsed": false,
    "deletable": true,
    "editable": true
   },
   "outputs": [
    {
     "data": {
      "text/plain": [
       "'example-output/example_proj/example_model/example_run/total_precipitation/total_precipitation.ann.reg.av.from_monthly_ts.example_model.example_run.0004-0006.nc'"
      ]
     },
     "execution_count": 14,
     "metadata": {},
     "output_type": "execute_result"
    }
   ],
   "source": [
    "calc_int.path_out['reg.av']"
   ]
  },
  {
   "cell_type": "code",
   "execution_count": 15,
   "metadata": {
    "collapsed": true,
    "deletable": true,
    "editable": true
   },
   "outputs": [],
   "source": [
    "ds = xr.open_dataset(calc_int.path_out['reg.av'])"
   ]
  },
  {
   "cell_type": "code",
   "execution_count": 16,
   "metadata": {
    "collapsed": false,
    "deletable": true,
    "editable": true
   },
   "outputs": [
    {
     "data": {
      "text/plain": [
       "<xarray.Dataset>\n",
       "Dimensions:              ()\n",
       "Coordinates:\n",
       "    raw_data_start_date  datetime64[ns] 1678-01-01\n",
       "    raw_data_end_date    datetime64[ns] 1681-01-01\n",
       "    subset_start_date    datetime64[ns] 1678-01-01\n",
       "    subset_end_date      datetime64[ns] 1680-12-31\n",
       "Data variables:\n",
       "    globe                float64 3.501e-05"
      ]
     },
     "execution_count": 16,
     "metadata": {},
     "output_type": "execute_result"
    }
   ],
   "source": [
    "ds"
   ]
  }
 ],
 "metadata": {
  "kernelspec": {
   "display_name": "Python 3",
   "language": "python",
   "name": "python3"
  },
  "language_info": {
   "codemirror_mode": {
    "name": "ipython",
    "version": 3
   },
   "file_extension": ".py",
   "mimetype": "text/x-python",
   "name": "python",
   "nbconvert_exporter": "python",
   "pygments_lexer": "ipython3",
   "version": "3.6.0"
  }
 },
 "nbformat": 4,
 "nbformat_minor": 0
}
