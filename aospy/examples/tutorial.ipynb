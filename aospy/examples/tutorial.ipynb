{
 "cells": [
  {
   "cell_type": "code",
   "execution_count": 1,
   "metadata": {
    "collapsed": true
   },
   "outputs": [],
   "source": [
    "import os\n",
    "from datetime import datetime\n",
    "\n",
    "import matplotlib.pyplot as plt\n",
    "import xarray as xr\n",
    "\n",
    "from aospy import Proj, Model, Run, Var, Region, Calc, CalcInterface\n",
    "from aospy.data_loader import DictDataLoader\n",
    "%matplotlib inline"
   ]
  },
  {
   "cell_type": "markdown",
   "metadata": {},
   "source": [
    "Define example aospy objects\n",
    "----------------------------"
   ]
  },
  {
   "cell_type": "code",
   "execution_count": 2,
   "metadata": {
    "collapsed": true
   },
   "outputs": [],
   "source": [
    "def total_precipitation(convection_rain, condensation_rain):\n",
    "    return convection_rain + condensation_rain"
   ]
  },
  {
   "cell_type": "code",
   "execution_count": 3,
   "metadata": {
    "collapsed": false
   },
   "outputs": [],
   "source": [
    "files = os.path.normpath('../aospy/test/data/netcdf/000[4-6]0101.precip_monthly.nc')\n",
    "file_map = {'monthly': files}\n",
    "example_run = Run(\n",
    "    name='example_run',\n",
    "    description=(\n",
    "        'Control simulation of the idealized moist model'\n",
    "    ),\n",
    "    data_loader=DictDataLoader(file_map)\n",
    ")\n"
   ]
  },
  {
   "cell_type": "code",
   "execution_count": 4,
   "metadata": {
    "collapsed": false
   },
   "outputs": [],
   "source": [
    "example_model = Model(\n",
    "    name='example_model',\n",
    "    grid_file_paths=(\n",
    "        os.path.normpath('../aospy/test/data/netcdf/00040101.precip_monthly.nc'),\n",
    "        os.path.normpath('../aospy/test/data/netcdf/im.landmask.nc')\n",
    "    ),\n",
    "    runs=[example_run]\n",
    ")"
   ]
  },
  {
   "cell_type": "code",
   "execution_count": 5,
   "metadata": {
    "collapsed": false
   },
   "outputs": [
    {
     "name": "stdout",
     "output_type": "stream",
     "text": [
      "Initializing Project instance: example_proj (Thu Jan 19 20:01:27 2017)\n"
     ]
    }
   ],
   "source": [
    "example_proj = Proj(\n",
    "    'example_proj',\n",
    "    direc_out='example-output',\n",
    "    tar_direc_out='example-tar-output',\n",
    "    models=(example_model,)\n",
    ")"
   ]
  },
  {
   "cell_type": "code",
   "execution_count": 6,
   "metadata": {
    "collapsed": true
   },
   "outputs": [],
   "source": [
    "condensation_rain = Var(\n",
    "    name='condensation_rain',\n",
    "    alt_names=('prec_ls',),\n",
    "    def_time=True,\n",
    "    description=('condensation rain'),\n",
    ")\n",
    "\n",
    "convection_rain = Var(\n",
    "    name='convection_rain',\n",
    "    alt_names=('prec_conv',),\n",
    "    def_time=True,\n",
    "    description=('convection rain'),\n",
    ")\n",
    "\n",
    "precip = Var(\n",
    "    name='total_precipitation',\n",
    "    def_time=True,\n",
    "    description=('total precipitation rate'),\n",
    "    func=total_precipitation,\n",
    "    variables=(convection_rain, condensation_rain)\n",
    ")"
   ]
  },
  {
   "cell_type": "code",
   "execution_count": 7,
   "metadata": {
    "collapsed": true
   },
   "outputs": [],
   "source": [
    "globe = Region(\n",
    "    name='globe',\n",
    "    description='Entire globe',\n",
    "    lat_bounds=(-90, 90),\n",
    "    lon_bounds=(0, 360),\n",
    "    do_land_mask=False\n",
    ")"
   ]
  },
  {
   "cell_type": "markdown",
   "metadata": {},
   "source": [
    "Compute annual mean total precipitation rate\n",
    "----------------------------------------------"
   ]
  },
  {
   "cell_type": "code",
   "execution_count": 8,
   "metadata": {
    "collapsed": false
   },
   "outputs": [
    {
     "name": "stderr",
     "output_type": "stream",
     "text": [
      "/home/skc/aospy/aospy/utils/times.py:198: FutureWarning: the order of the arguments on DataArray.to_dataset has changed; you now need to supply ``name`` as a keyword argument\n",
      "  min_yr_decoded = xr.decode_cf(time.to_dataset('dummy'))\n",
      "/nbhome/skc/anaconda2/lib/python2.7/site-packages/xarray/conventions.py:377: RuntimeWarning: Unable to decode time axis into full numpy.datetime64 objects, continuing using dummy netCDF4.datetime objects instead, reason: dates out of range\n",
      "  result = decode_cf_datetime(example_value, units, calendar)\n",
      "/nbhome/skc/anaconda2/lib/python2.7/site-packages/xarray/conventions.py:396: RuntimeWarning: Unable to decode time axis into full numpy.datetime64 objects, continuing using dummy netCDF4.datetime objects instead, reason: dates out of range\n",
      "  calendar=self.calendar)\n"
     ]
    }
   ],
   "source": [
    "calc_int = CalcInterface(\n",
    "    proj=example_proj,\n",
    "    model=example_model,\n",
    "    run=example_run,\n",
    "    var=precip,\n",
    "    date_range=(datetime(4, 1, 1), datetime(6, 12, 31)),\n",
    "    intvl_in='monthly',\n",
    "    dtype_in_time='ts',\n",
    "    intvl_out='ann',\n",
    "    dtype_out_time='av'\n",
    ")\n",
    "Calc(calc_int).compute()"
   ]
  },
  {
   "cell_type": "code",
   "execution_count": 9,
   "metadata": {
    "collapsed": false
   },
   "outputs": [],
   "source": [
    "ds = xr.open_dataset(calc_int.path_out['av'])"
   ]
  },
  {
   "cell_type": "code",
   "execution_count": 10,
   "metadata": {
    "collapsed": false
   },
   "outputs": [
    {
     "data": {
      "text/plain": [
       "<xarray.Dataset>\n",
       "Dimensions:              (lat: 64, lon: 128)\n",
       "Coordinates:\n",
       "  * lon                  (lon) float64 0.0 2.812 5.625 8.438 11.25 14.06 ...\n",
       "  * lat                  (lat) float64 -87.86 -85.1 -82.31 -79.53 -76.74 ...\n",
       "    avg_start_date       datetime64[ns] 1678-01-01\n",
       "    avg_end_date         datetime64[ns] 1681-01-01\n",
       "    sfc_area             (lat, lon) float64 3.553e+09 3.553e+09 3.553e+09 ...\n",
       "    land_mask            (lat, lon) float64 0.0 0.0 0.0 0.0 0.0 0.0 0.0 0.0 ...\n",
       "Data variables:\n",
       "    total_precipitation  (lat, lon) float64 5.158e-06 5.147e-06 5.136e-06 ..."
      ]
     },
     "execution_count": 10,
     "metadata": {},
     "output_type": "execute_result"
    }
   ],
   "source": [
    "ds"
   ]
  },
  {
   "cell_type": "code",
   "execution_count": 11,
   "metadata": {
    "collapsed": false
   },
   "outputs": [
    {
     "data": {
      "text/plain": [
       "<matplotlib.collections.QuadMesh at 0x7f06d99cc5d0>"
      ]
     },
     "execution_count": 11,
     "metadata": {},
     "output_type": "execute_result"
    },
    {
     "data": {
      "image/png": "[encoded data removed]",
      "text/plain": [
       "<matplotlib.figure.Figure at 0x7f06d99cc4d0>"
      ]
     },
     "metadata": {},
     "output_type": "display_data"
    }
   ],
   "source": [
    "ds.total_precipitation.plot()"
   ]
  },
  {
   "cell_type": "code",
   "execution_count": 12,
   "metadata": {
    "collapsed": false
   },
   "outputs": [
    {
     "data": {
      "text/plain": [
       "'example-output/example_proj/example_model/example_run/total_precipitation/total_precipitation.ann.av.from_monthly_ts.example_model.example_run.0004-0006.nc'"
      ]
     },
     "execution_count": 12,
     "metadata": {},
     "output_type": "execute_result"
    }
   ],
   "source": [
    "# The path to the output in this example is given by\n",
    "calc_int.path_out['av']"
   ]
  },
  {
   "cell_type": "markdown",
   "metadata": {},
   "source": [
    "Compute global annual mean total precipitation rate\n",
    "---------------------------------------------------"
   ]
  },
  {
   "cell_type": "code",
   "execution_count": 13,
   "metadata": {
    "collapsed": false
   },
   "outputs": [],
   "source": [
    "calc_int = CalcInterface(\n",
    "    proj=example_proj,\n",
    "    model=example_model,\n",
    "    run=example_run,\n",
    "    var=precip,\n",
    "    date_range=(datetime(4, 1, 1), datetime(6, 12, 31)),\n",
    "    intvl_in='monthly',\n",
    "    dtype_in_time='ts',\n",
    "    intvl_out='ann',\n",
    "    dtype_out_time='reg.av',\n",
    "    region={'globe': globe}\n",
    ")\n",
    "Calc(calc_int).compute()"
   ]
  },
  {
   "cell_type": "code",
   "execution_count": 14,
   "metadata": {
    "collapsed": false
   },
   "outputs": [
    {
     "data": {
      "text/plain": [
       "'example-output/example_proj/example_model/example_run/total_precipitation/total_precipitation.ann.reg.av.from_monthly_ts.example_model.example_run.0004-0006.nc'"
      ]
     },
     "execution_count": 14,
     "metadata": {},
     "output_type": "execute_result"
    }
   ],
   "source": [
    "calc_int.path_out['reg.av']"
   ]
  },
  {
   "cell_type": "code",
   "execution_count": 15,
   "metadata": {
    "collapsed": true
   },
   "outputs": [],
   "source": [
    "ds = xr.open_dataset(calc_int.path_out['reg.av'])"
   ]
  },
  {
   "cell_type": "code",
   "execution_count": 16,
   "metadata": {
    "collapsed": false
   },
   "outputs": [
    {
     "data": {
      "text/plain": [
       "<xarray.Dataset>\n",
       "Dimensions:         ()\n",
       "Coordinates:\n",
       "    avg_start_date  datetime64[ns] 1678-01-01\n",
       "    avg_end_date    datetime64[ns] 1681-01-01\n",
       "Data variables:\n",
       "    globe           float64 3.501e-05"
      ]
     },
     "execution_count": 16,
     "metadata": {},
     "output_type": "execute_result"
    }
   ],
   "source": [
    "ds"
   ]
  }
 ],
 "metadata": {
  "kernelspec": {
   "display_name": "Python [Root]",
   "language": "python",
   "name": "Python [Root]"
  },
  "language_info": {
   "codemirror_mode": {
    "name": "ipython",
    "version": 2
   },
   "file_extension": ".py",
   "mimetype": "text/x-python",
   "name": "python",
   "nbconvert_exporter": "python",
   "pygments_lexer": "ipython2",
   "version": "2.7.12"
  }
 },
 "nbformat": 4,
 "nbformat_minor": 0
}
