{
 "cells": [
  {
   "cell_type": "code",
   "execution_count": 20,
   "metadata": {
    "collapsed": true
   },
   "outputs": [],
   "source": [
    "import matplotlib.pyplot as plt\n",
    "import xarray as xr\n",
    "\n",
    "from aospy import Proj, Model, Run, Var, Region, Calc, CalcInterface\n",
    "xr.set_options(display_width=40)\n",
    "%matplotlib inline"
   ]
  },
  {
   "cell_type": "markdown",
   "metadata": {},
   "source": [
    "Define example aospy objects\n",
    "----------------------------"
   ]
  },
  {
   "cell_type": "code",
   "execution_count": 11,
   "metadata": {
    "collapsed": true
   },
   "outputs": [],
   "source": [
    "def total_precipitation(convection_rain, condensation_rain):\n",
    "    return convection_rain + condensation_rain"
   ]
  },
  {
   "cell_type": "code",
   "execution_count": 12,
   "metadata": {
    "collapsed": false
   },
   "outputs": [],
   "source": [
    "files = ['{:04d}0101.precip_monthly.nc'.format(year) for year in range(4, 7)]\n",
    "example_run = Run(\n",
    "    name='example_run',\n",
    "    description=(\n",
    "        'Control simulation of the idealized moist model'\n",
    "    ),\n",
    "    data_in_direc='../aospy/test/data/netcdf',\n",
    "    data_in_dir_struc='one_dir',\n",
    "    data_in_files={'monthly': {'condensation_rain': files,\n",
    "                               'convection_rain': files}}\n",
    ")"
   ]
  },
  {
   "cell_type": "code",
   "execution_count": 13,
   "metadata": {
    "collapsed": false
   },
   "outputs": [],
   "source": [
    "example_model = Model(\n",
    "    name='example_model',\n",
    "    grid_file_paths=(\n",
    "        '../aospy/test/data/netcdf/00040101.precip_monthly.nc',\n",
    "        '../aospy/test/data/netcdf/im.landmask.nc'\n",
    "    ),\n",
    "    runs=[example_run]\n",
    ")"
   ]
  },
  {
   "cell_type": "code",
   "execution_count": 14,
   "metadata": {
    "collapsed": false
   },
   "outputs": [
    {
     "name": "stdout",
     "output_type": "stream",
     "text": [
      "Initializing Project instance: example_proj (Wed Nov  2 11:13:11 2016)\n"
     ]
    }
   ],
   "source": [
    "example_proj = Proj(\n",
    "    'example_proj',\n",
    "    direc_out='example-output',\n",
    "    tar_direc_out='example-tar-output',\n",
    "    models=(example_model,)\n",
    ")"
   ]
  },
  {
   "cell_type": "code",
   "execution_count": 15,
   "metadata": {
    "collapsed": true
   },
   "outputs": [],
   "source": [
    "condensation_rain = Var(\n",
    "    name='condensation_rain',\n",
    "    alt_names=('prec_ls',),\n",
    "    def_time=True,\n",
    "    description=('condensation rain'),\n",
    ")\n",
    "\n",
    "convection_rain = Var(\n",
    "    name='convection_rain',\n",
    "    alt_names=('prec_conv',),\n",
    "    def_time=True,\n",
    "    description=('convection rain'),\n",
    ")\n",
    "\n",
    "precip = Var(\n",
    "    name='total_precipitation',\n",
    "    def_time=True,\n",
    "    description=('total precipitation rate'),\n",
    "    func=total_precipitation,\n",
    "    variables=(convection_rain, condensation_rain)\n",
    ")"
   ]
  },
  {
   "cell_type": "code",
   "execution_count": 16,
   "metadata": {
    "collapsed": true
   },
   "outputs": [],
   "source": [
    "globe = Region(\n",
    "    name='globe',\n",
    "    description='Entire globe',\n",
    "    lat_bounds=(-90, 90),\n",
    "    lon_bounds=(0, 360),\n",
    "    do_land_mask=False\n",
    ")"
   ]
  },
  {
   "cell_type": "markdown",
   "metadata": {},
   "source": [
    "Compute annual mean total precipitation rate\n",
    "----------------------------------------------"
   ]
  },
  {
   "cell_type": "code",
   "execution_count": 17,
   "metadata": {
    "collapsed": false
   },
   "outputs": [],
   "source": [
    "calc_int = CalcInterface(\n",
    "    proj=example_proj,\n",
    "    model=example_model,\n",
    "    run=example_run,\n",
    "    var=precip,\n",
    "    date_range=('0004-01-01', '0006-12-31'),\n",
    "    intvl_in='monthly',\n",
    "    dtype_in_time='ts',\n",
    "    intvl_out='ann',\n",
    "    dtype_out_time='av'\n",
    ")\n",
    "Calc(calc_int).compute()"
   ]
  },
  {
   "cell_type": "code",
   "execution_count": 18,
   "metadata": {
    "collapsed": false
   },
   "outputs": [],
   "source": [
    "ds = xr.open_dataset(calc_int.path_out['av'])"
   ]
  },
  {
   "cell_type": "code",
   "execution_count": 21,
   "metadata": {
    "collapsed": false
   },
   "outputs": [
    {
     "data": {
      "text/plain": [
       "<xarray.Dataset>\n",
       "Dimensions:              (lat: 64, lon: 128)\n",
       "Coordinates:\n",
       "  * lon                  (lon) float64 0.0 ...\n",
       "    land_mask            (lat, lon) float64 0.0 ...\n",
       "    sfc_area             (lat, lon) float64 3.553e+09 ...\n",
       "  * lat                  (lat) float64 -87.86 ...\n",
       "Data variables:\n",
       "    total_precipitation  (lat, lon) float64 5.158e-06 ..."
      ]
     },
     "execution_count": 21,
     "metadata": {},
     "output_type": "execute_result"
    }
   ],
   "source": [
    "ds"
   ]
  },
  {
   "cell_type": "code",
   "execution_count": 10,
   "metadata": {
    "collapsed": false
   },
   "outputs": [
    {
     "data": {
      "text/plain": [
       "<matplotlib.collections.QuadMesh at 0x7f3901e41b10>"
      ]
     },
     "execution_count": 10,
     "metadata": {},
     "output_type": "execute_result"
    },
    {
     "data": {
      "image/png": "[encoded data removed]",
      "text/plain": [
       "<matplotlib.figure.Figure at 0x7f3901e41e90>"
      ]
     },
     "metadata": {},
     "output_type": "display_data"
    }
   ],
   "source": [
    "ds.total_precipitation.plot()"
   ]
  },
  {
   "cell_type": "code",
   "execution_count": 11,
   "metadata": {
    "collapsed": false
   },
   "outputs": [
    {
     "data": {
      "text/plain": [
       "'example-output/example_proj/example_model/example_run/total_precipitation/total_precipitation.ann.av.from_monthly_ts.example_model.example_run.0004-0006.nc'"
      ]
     },
     "execution_count": 11,
     "metadata": {},
     "output_type": "execute_result"
    }
   ],
   "source": [
    "# The path to the output in this example is given by\n",
    "calc_int.path_out['av']"
   ]
  },
  {
   "cell_type": "markdown",
   "metadata": {},
   "source": [
    "Compute global annual mean total precipitation rate\n",
    "---------------------------------------------------"
   ]
  },
  {
   "cell_type": "code",
   "execution_count": 12,
   "metadata": {
    "collapsed": true
   },
   "outputs": [],
   "source": [
    "calc_int = CalcInterface(\n",
    "    proj=example_proj,\n",
    "    model=example_model,\n",
    "    run=example_run,\n",
    "    var=precip,\n",
    "    date_range=('0004-01-01', '0006-12-31'),\n",
    "    intvl_in='monthly',\n",
    "    dtype_in_time='ts',\n",
    "    intvl_out='ann',\n",
    "    dtype_out_time='reg.av',\n",
    "    region={'globe': globe}\n",
    ")\n",
    "Calc(calc_int).compute()"
   ]
  },
  {
   "cell_type": "code",
   "execution_count": 13,
   "metadata": {
    "collapsed": false
   },
   "outputs": [
    {
     "data": {
      "text/plain": [
       "'example-output/example_proj/example_model/example_run/total_precipitation/total_precipitation.ann.reg.av.from_monthly_ts.example_model.example_run.0004-0006.nc'"
      ]
     },
     "execution_count": 13,
     "metadata": {},
     "output_type": "execute_result"
    }
   ],
   "source": [
    "calc_int.path_out['reg.av']"
   ]
  },
  {
   "cell_type": "code",
   "execution_count": 14,
   "metadata": {
    "collapsed": true
   },
   "outputs": [],
   "source": [
    "ds = xr.open_dataset(calc_int.path_out['reg.av'])"
   ]
  },
  {
   "cell_type": "code",
   "execution_count": null,
   "metadata": {
    "collapsed": false
   },
   "outputs": [
    {
     "data": {
      "text/plain": [
       "<xarray.Dataset>\n",
       "Dimensions:  ()\n",
       "Coordinates:\n",
       "    *empty*\n",
       "Data variables:\n",
       "    globe    float64 3.501e-05"
      ]
     },
     "execution_count": 15,
     "metadata": {},
     "output_type": "execute_result"
    }
   ],
   "source": [
    "ds"
   ]
  }
 ],
 "metadata": {
  "kernelspec": {
   "display_name": "Python [Root]",
   "language": "python",
   "name": "Python [Root]"
  },
  "language_info": {
   "codemirror_mode": {
    "name": "ipython",
    "version": 2
   },
   "file_extension": ".py",
   "mimetype": "text/x-python",
   "name": "python",
   "nbconvert_exporter": "python",
   "pygments_lexer": "ipython2",
   "version": "2.7.12"
  }
 },
 "nbformat": 4,
 "nbformat_minor": 0
}
